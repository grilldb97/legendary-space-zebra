{
 "cells": [
  {
   "cell_type": "code",
   "execution_count": 8,
   "id": "2801dc4b-6847-48e2-b91b-b390b53e0157",
   "metadata": {},
   "outputs": [
    {
     "name": "stdout",
     "output_type": "stream",
     "text": [
      "Datum: 05.12.2023\n",
      "Hello World\n",
      "Mein erstes Python-Programm\n"
     ]
    }
   ],
   "source": [
    "print(\"Datum: 05.12.2023\")\n",
    "print(\"Hello World\")\n",
    "print(\"Mein erstes Python-Programm\")\n"
   ]
  }
 ],
 "metadata": {
  "kernelspec": {
   "display_name": "Python 3 (ipykernel)",
   "language": "python",
   "name": "python3"
  },
  "language_info": {
   "codemirror_mode": {
    "name": "ipython",
    "version": 3
   },
   "file_extension": ".py",
   "mimetype": "text/x-python",
   "name": "python",
   "nbconvert_exporter": "python",
   "pygments_lexer": "ipython3",
   "version": "3.10.13"
  }
 },
 "nbformat": 4,
 "nbformat_minor": 5
}
