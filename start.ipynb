{
 "cells": [
  {
   "cell_type": "code",
   "execution_count": 8,
   "id": "2801dc4b-6847-48e2-b91b-b390b53e0157",
   "metadata": {},
   "outputs": [
    {
     "name": "stdout",
     "output_type": "stream",
     "text": [
      "Datum: 05.12.2023\n",
      "Hello World\n",
      "Mein erstes Python-Programm\n"
     ]
    }
   ],
   "source": [
    "print(\"Datum: 05.12.2023\")\n",
    "print(\"Hello World\")\n",
    "print(\"Mein erstes Python-Programm\")\n"
   ]
  },
  {
   "cell_type": "code",
   "execution_count": 7,
   "id": "f28f83e5-44f7-40cb-9f3d-361bfdf94128",
   "metadata": {},
   "outputs": [
    {
     "name": "stdout",
     "output_type": "stream",
     "text": [
      "Mein Name ist Test und ich bin 8 Jahre alt.\n",
      "2023\n"
     ]
    }
   ],
   "source": [
    "# 06.12.2023 - Variablen\n",
    "name = \"Test\"\n",
    "age = 8\n",
    "print(\"Mein Name ist\",name,\"und ich bin\",age,\"Jahre alt.\")\n",
    "\n",
    "jahrt = 2000\n",
    "jahrz = 23\n",
    "print(jahrt+jahrz)"
   ]
  },
  {
   "cell_type": "code",
   "execution_count": 5,
   "id": "9c7b55a3-5c9b-4211-b7a9-70a3db989798",
   "metadata": {},
   "outputs": [
    {
     "name": "stdout",
     "output_type": "stream",
     "text": [
      "Welcher Wochentag ist heute?\n"
     ]
    },
    {
     "name": "stdin",
     "output_type": "stream",
     "text": [
      " Donnerstag\n"
     ]
    },
    {
     "name": "stdout",
     "output_type": "stream",
     "text": [
      "Heute ist: Donnerstag\n",
      "Welches Datum haben wir heute?\n"
     ]
    },
    {
     "name": "stdin",
     "output_type": "stream",
     "text": [
      " 07.12.2023\n"
     ]
    },
    {
     "name": "stdout",
     "output_type": "stream",
     "text": [
      "Heute ist: Donnerstag der 07.12.2023\n"
     ]
    }
   ],
   "source": [
    "# 07.12.2023 - Input\n",
    "print(\"Welcher Wochentag ist heute?\")\n",
    "wday = input()\n",
    "print(\"Heute ist: \" +wday)\n",
    "print(\"Welches Datum haben wir heute?\")\n",
    "date = input()\n",
    "print(\"Heute ist: \" +wday+ \" der \" +date)"
   ]
  },
  {
   "cell_type": "code",
   "execution_count": null,
   "id": "2ebb61ff-0906-4071-93d8-77a9d791a8bd",
   "metadata": {},
   "outputs": [],
   "source": []
  }
 ],
 "metadata": {
  "kernelspec": {
   "display_name": "Python 3 (ipykernel)",
   "language": "python",
   "name": "python3"
  },
  "language_info": {
   "codemirror_mode": {
    "name": "ipython",
    "version": 3
   },
   "file_extension": ".py",
   "mimetype": "text/x-python",
   "name": "python",
   "nbconvert_exporter": "python",
   "pygments_lexer": "ipython3",
   "version": "3.10.13"
  }
 },
 "nbformat": 4,
 "nbformat_minor": 5
}
