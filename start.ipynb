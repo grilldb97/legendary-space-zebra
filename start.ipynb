{
 "cells": [
  {
   "cell_type": "code",
   "execution_count": 8,
   "id": "2801dc4b-6847-48e2-b91b-b390b53e0157",
   "metadata": {},
   "outputs": [
    {
     "name": "stdout",
     "output_type": "stream",
     "text": [
      "Datum: 05.12.2023\n",
      "Hello World\n",
      "Mein erstes Python-Programm\n"
     ]
    }
   ],
   "source": [
    "print(\"Datum: 05.12.2023\")\n",
    "print(\"Hello World\")\n",
    "print(\"Mein erstes Python-Programm\")\n"
   ]
  },
  {
   "cell_type": "code",
   "execution_count": 7,
   "id": "f28f83e5-44f7-40cb-9f3d-361bfdf94128",
   "metadata": {},
   "outputs": [
    {
     "name": "stdout",
     "output_type": "stream",
     "text": [
      "Mein Name ist Test und ich bin 8 Jahre alt.\n",
      "2023\n"
     ]
    }
   ],
   "source": [
    "# 06.12.2023 - Variablen\n",
    "name = \"Test\"\n",
    "age = 8\n",
    "print(\"Mein Name ist\",name,\"und ich bin\",age,\"Jahre alt.\")\n",
    "\n",
    "jahrt = 2000\n",
    "jahrz = 23\n",
    "print(jahrt+jahrz)"
   ]
  },
  {
   "cell_type": "code",
   "execution_count": 5,
   "id": "9c7b55a3-5c9b-4211-b7a9-70a3db989798",
   "metadata": {},
   "outputs": [
    {
     "name": "stdout",
     "output_type": "stream",
     "text": [
      "Welcher Wochentag ist heute?\n"
     ]
    },
    {
     "name": "stdin",
     "output_type": "stream",
     "text": [
      " Donnerstag\n"
     ]
    },
    {
     "name": "stdout",
     "output_type": "stream",
     "text": [
      "Heute ist: Donnerstag\n",
      "Welches Datum haben wir heute?\n"
     ]
    },
    {
     "name": "stdin",
     "output_type": "stream",
     "text": [
      " 07.12.2023\n"
     ]
    },
    {
     "name": "stdout",
     "output_type": "stream",
     "text": [
      "Heute ist: Donnerstag der 07.12.2023\n"
     ]
    }
   ],
   "source": [
    "# 07.12.2023 - Input\n",
    "print(\"Welcher Wochentag ist heute?\")\n",
    "wday = input()\n",
    "print(\"Heute ist: \" +wday)\n",
    "print(\"Welches Datum haben wir heute?\")\n",
    "date = input()\n",
    "print(\"Heute ist: \" +wday+ \" der \" +date)"
   ]
  },
  {
   "cell_type": "code",
   "execution_count": 13,
   "id": "2ebb61ff-0906-4071-93d8-77a9d791a8bd",
   "metadata": {},
   "outputs": [
    {
     "name": "stdout",
     "output_type": "stream",
     "text": [
      "<class 'int'>\n",
      "<class 'float'>\n",
      "<class 'str'>\n",
      "<class 'complex'>\n",
      "<class 'bool'>\n",
      "<class 'list'>\n",
      "<class 'tuple'>\n"
     ]
    }
   ],
   "source": [
    "# 08.12.2023 - Datentypen prüfen\n",
    "budget = 300\n",
    "print(type(budget))\n",
    "\n",
    "price = 1.99\n",
    "print(type(price))\n",
    "\n",
    "nname = \"Testmann\"\n",
    "print(type(nname))\n",
    "\n",
    "comp = 2j\n",
    "print(type(comp))\n",
    "\n",
    "save = True\n",
    "print(type(save))\n",
    "\n",
    "List = [1,\"Hello\",\"Bye\",\"Goodnight\",2+2]\n",
    "print(type(List))\n",
    "\n",
    "List2 = \"Hello\",\"Bye\",\"Goodnight\"\n",
    "print(type(List2))"
   ]
  },
  {
   "cell_type": "code",
   "execution_count": 82,
   "id": "278fbf63-834b-43b5-b619-d9f336d1f508",
   "metadata": {},
   "outputs": [
    {
     "name": "stdout",
     "output_type": "stream",
     "text": [
      "Addition:   7 +  10 =  17\n",
      "Addition:   7 +(-10)=  -3\n",
      "Addition: (-7)+(-10)= -17\n",
      "Addition:  20 +  30 =  50\n",
      "\n",
      "Subtraktion:   7-   3  =   4\n",
      "Subtraktion:   7-  10  =  -3\n",
      "Subtraktion:  -7-  10  = -17\n",
      "Subtraktion:  -7-(-10) =  -3\n",
      "Subtraktion: 20 - 30 =   -10\n",
      "\n",
      "Multiplikation:    7*  10  =  70\n",
      "Multiplikation:    7*(-10) = -70\n",
      "Multiplikation: (-7)*(-10) =  70\n",
      "Multiplikation:  20 *  30 =  600\n",
      "\n",
      "Division:  10 /   7  =  1.4285714285714286\n",
      "Division:   7 /  10  =  0.7\n",
      "Division:   7 /(-10) = -0.7\n",
      "Division:  20 /  30  =  0.6666666666666666\n",
      "\n",
      "3*3+6/5-9     =  1.1999999999999993\n",
      "(3*3)+6/(5-9) =  7.5\n",
      "((3*3)+6)/5-9 = -6.0\n"
     ]
    }
   ],
   "source": [
    "# 09.12.2023 - Rechnen\n",
    "a = 20\n",
    "b = 30\n",
    "# Addition\n",
    "print(\"Addition:   7 +  10 = \", 7+10)\n",
    "print(\"Addition:   7 +(-10)= \", 7+(-10))\n",
    "print(\"Addition: (-7)+(-10)=\",(-7)+(-10))\n",
    "print(\"Addition: \",a,\"+ \",b,\"= \",a+b)\n",
    "\n",
    "\n",
    "# Subtraktion\n",
    "print()\n",
    "print(\"Subtraktion:   7-   3  =  \",7-3)\n",
    "print(\"Subtraktion:   7-  10  = \",7-10)\n",
    "print(\"Subtraktion:  -7-  10  =\",-7-10)\n",
    "print(\"Subtraktion:  -7-(-10) = \",7-10)\n",
    "print(\"Subtraktion:\",a,\"-\",b,\"=  \",a-b)\n",
    "\n",
    "\n",
    "# Multiplikation\n",
    "print()\n",
    "print(\"Multiplikation:    7*  10  = \", 7*10)\n",
    "print(\"Multiplikation:    7*(-10) =\", 7*(-10))\n",
    "print(\"Multiplikation: (-7)*(-10) = \",(-7)*(-10))\n",
    "print(\"Multiplikation: \",a,\"* \",b,\"= \",a*b)\n",
    "\n",
    "# Division\n",
    "print() # leere Zeile ausgeben\n",
    "print(\"Division:  10 /   7  = \", 10/7)\n",
    "print(\"Division:   7 /  10  = \", 7/10)\n",
    "print(\"Division:   7 /(-10) =\", 7/(-10))\n",
    "print(\"Division: \",a,\"/ \",b,\" = \",a/b)\n",
    "\n",
    "# gemischt\n",
    "print()\n",
    "print(\"3*3+6/5-9     = \",3*3+6/5-9)\n",
    "print(\"(3*3)+6/(5-9) = \",(3*3)+6/(5-9))\n",
    "print(\"((3*3)+6)/5-9 =\",((3*3)+6)/5-9)"
   ]
  },
  {
   "cell_type": "code",
   "execution_count": null,
   "id": "90c74fd5-5f34-472b-90f7-792f04905411",
   "metadata": {},
   "outputs": [],
   "source": []
  },
  {
   "cell_type": "code",
   "execution_count": null,
   "id": "1a2651b8-981a-461c-aed1-11ce809b7ae0",
   "metadata": {},
   "outputs": [],
   "source": []
  },
  {
   "cell_type": "code",
   "execution_count": null,
   "id": "2bf01d5f-a2d2-4d8a-8ea7-38fbf4be1f10",
   "metadata": {},
   "outputs": [],
   "source": []
  }
 ],
 "metadata": {
  "kernelspec": {
   "display_name": "Python 3 (ipykernel)",
   "language": "python",
   "name": "python3"
  },
  "language_info": {
   "codemirror_mode": {
    "name": "ipython",
    "version": 3
   },
   "file_extension": ".py",
   "mimetype": "text/x-python",
   "name": "python",
   "nbconvert_exporter": "python",
   "pygments_lexer": "ipython3",
   "version": "3.10.13"
  }
 },
 "nbformat": 4,
 "nbformat_minor": 5
}
