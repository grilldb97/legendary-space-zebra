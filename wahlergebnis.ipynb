{
 "cells": [
  {
   "cell_type": "code",
   "execution_count": 18,
   "id": "e52b7fb9-6ecb-41f0-b314-e0c500c180f7",
   "metadata": {},
   "outputs": [
    {
     "name": "stdin",
     "output_type": "stream",
     "text": [
      "Stimmen für Stefan:  5\n",
      "Stimmen für Barbara:  6\n",
      "Stimmen für Robert:  5\n"
     ]
    },
    {
     "name": "stdout",
     "output_type": "stream",
     "text": [
      "Stefans Anteil:  31  Prozent\n",
      "Barbaras Anteil:  37 Prozent\n",
      "Roberts Anteil:  32 Prozenz\n"
     ]
    }
   ],
   "source": [
    "\n",
    "# input\n",
    "stimmen1 = int(input(\"Stimmen für Stefan: \"))\n",
    "stimmen2 = int(input(\"Stimmen für Barbara: \"))\n",
    "stimmen3 = int(input(\"Stimmen für Robert: \"))\n",
    "\n",
    "\n",
    "# processing\n",
    "sum = stimmen1 + stimmen2 + stimmen3\n",
    "anteil1 = int(stimmen1 / sum * 100)\n",
    "anteil2 = int(stimmen2 / sum * 100)\n",
    "anteil3 = int(100 - anteil1 - anteil2)\n",
    "\n",
    "# output\n",
    "print(\"Wahlergebnis\")\n",
    "print(\"Stefans Anteil: \",anteil1, \" Prozent\")\n",
    "print(\"Barbaras Anteil: \",anteil2, \"Prozent\")\n",
    "print(\"Roberts Anteil: \",anteil3, \"Prozenz\")\n",
    "    "
   ]
  },
  {
   "cell_type": "code",
   "execution_count": null,
   "id": "7c595afb-2c74-44ec-8c08-841d4f3c1b05",
   "metadata": {},
   "outputs": [],
   "source": []
  }
 ],
 "metadata": {
  "kernelspec": {
   "display_name": "Python 3 (ipykernel)",
   "language": "python",
   "name": "python3"
  },
  "language_info": {
   "codemirror_mode": {
    "name": "ipython",
    "version": 3
   },
   "file_extension": ".py",
   "mimetype": "text/x-python",
   "name": "python",
   "nbconvert_exporter": "python",
   "pygments_lexer": "ipython3",
   "version": "3.10.13"
  }
 },
 "nbformat": 4,
 "nbformat_minor": 5
}
