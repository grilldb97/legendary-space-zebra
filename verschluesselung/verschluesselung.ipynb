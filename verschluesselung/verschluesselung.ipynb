{
 "cells": [
  {
   "cell_type": "code",
   "execution_count": 37,
   "id": "df68c008-7739-4450-8604-b77f6da43b6b",
   "metadata": {},
   "outputs": [
    {
     "name": "stdin",
     "output_type": "stream",
     "text": [
      "Gib den Text ein, den du verschlüsseln möchtest:  hallo\n"
     ]
    },
    {
     "name": "stdout",
     "output_type": "stream",
     "text": [
      "Der entschlüsselte Text lautet: hallo\n"
     ]
    }
   ],
   "source": [
    "#fname = input(\"Wie heißt die Datei?  \\nSollte keine Datei existieren, dann nur Enter drücken\")\n",
    "\n",
    "# if (fname != \"\"):\n",
    " #   f = open(fname, 'w')\n",
    "  #  f.write('Hallo Welt!')\n",
    "   # f.close()\n",
    "#else:\n",
    " #   open('test.txt','x') \n",
    "\n",
    "# Erstelle eine Textdatei mit Zahlen, die für Buchstaben stehen\n",
    "with open('textdatei.txt', 'w') as f:\n",
    "    f.write('1\\n2\\n3\\n4\\n5\\n6\\n7\\n8\\n9\\n10\\n11\\n12\\n13\\n14\\n15\\n16\\n17\\n18\\n19\\n20\\n21\\n22\\n23\\n24\\n25\\n26\\n')\n",
    "\n",
    "# Lese die Textdatei ein und verschlüssele den Text in Zahlen\n",
    "with open('textdatei.txt', 'r') as f:\n",
    "    text = f.read().splitlines()\n",
    "\n",
    "# Erstelle ein Wörterbuch, das jedem Buchstaben eine Zahl zuordnet\n",
    "alphabet = 'abcdefghijklmnopqrstuvwxyz'\n",
    "letter_to_number = {letter: str(index) for index, letter in enumerate(alphabet, start=1)}\n",
    "\n",
    "# Verschlüssele den Text in Zahlen\n",
    "encrypted_text = ''\n",
    "for char in input('Gib den Text ein, den du verschlüsseln möchtest: ').lower():\n",
    "    if char in letter_to_number:\n",
    "        encrypted_text += letter_to_number[char] + '\\n'\n",
    "\n",
    "# Schreibe den verschlüsselten Text in eine neue Datei\n",
    "with open('verschluesselter_text.txt', 'w') as f:\n",
    "    f.write(encrypted_text)\n",
    "\n",
    "# Lese die verschlüsselte Datei ein und entschlüssele den Text in Buchstaben\n",
    "decrypted_text = ''\n",
    "with open('verschluesselter_text.txt', 'r') as f:\n",
    "    for line in f:\n",
    "        number = int(line.strip())\n",
    "        decrypted_text += alphabet[number - 1]\n",
    "\n",
    "print('Der entschlüsselte Text lautet:', decrypted_text)"
   ]
  },
  {
   "cell_type": "code",
   "execution_count": null,
   "id": "d3f4b7e6-c7f7-42d9-969a-14ea7dc2e790",
   "metadata": {},
   "outputs": [],
   "source": []
  }
 ],
 "metadata": {
  "kernelspec": {
   "display_name": "Python 3 (ipykernel)",
   "language": "python",
   "name": "python3"
  },
  "language_info": {
   "codemirror_mode": {
    "name": "ipython",
    "version": 3
   },
   "file_extension": ".py",
   "mimetype": "text/x-python",
   "name": "python",
   "nbconvert_exporter": "python",
   "pygments_lexer": "ipython3",
   "version": "3.10.13"
  }
 },
 "nbformat": 4,
 "nbformat_minor": 5
}
