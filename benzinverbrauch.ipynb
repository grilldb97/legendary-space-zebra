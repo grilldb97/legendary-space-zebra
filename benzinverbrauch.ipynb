{
 "cells": [
  {
   "cell_type": "code",
   "execution_count": 1,
   "id": "671dc1a7-6edc-4f85-8739-b91a1bf66e51",
   "metadata": {
    "ExecuteTime": {
     "end_time": "2023-12-14T18:52:41.436008900Z",
     "start_time": "2023-12-14T18:52:36.289539600Z"
    }
   },
   "outputs": [
    {
     "name": "stdout",
     "output_type": "stream",
     "text": [
      "Verbrauch pro 100 km: 11.50 Liter\n",
      "Strecke pro Liter: 8.70 km\n"
     ]
    }
   ],
   "source": [
    "gstrecke = int(input(\"Wie lang war die gefahrene Strecke?: \")) \n",
    "bliter = int(input(\"Wie viel Liter Kraftstoff wurde benötigt?: \"))\n",
    "        \n",
    "verbrauch = (bliter/gstrecke)*100\n",
    "lstrecke = gstrecke/bliter\n",
    "\n",
    "       \n",
    "print(\"Verbrauch pro 100 km: %.2f Liter\" %verbrauch)\n",
    "print(\"Strecke pro Liter: %.2f km\" %lstrecke)\n"
   ]
  }
 ],
 "metadata": {
  "kernelspec": {
   "display_name": "Python 3 (ipykernel)",
   "language": "python",
   "name": "python3"
  },
  "language_info": {
   "codemirror_mode": {
    "name": "ipython",
    "version": 3
   },
   "file_extension": ".py",
   "mimetype": "text/x-python",
   "name": "python",
   "nbconvert_exporter": "python",
   "pygments_lexer": "ipython3",
   "version": "3.10.13"
  }
 },
 "nbformat": 4,
 "nbformat_minor": 5
}
