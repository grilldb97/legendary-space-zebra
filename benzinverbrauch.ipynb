{
 "cells": [
  {
   "cell_type": "code",
   "execution_count": 11,
   "id": "671dc1a7-6edc-4f85-8739-b91a1bf66e51",
   "metadata": {},
   "outputs": [
    {
     "name": "stdin",
     "output_type": "stream",
     "text": [
      "Wie lang war die gefahrene Strecke?:  100\n",
      "Wie viel Liter Kraftstoff wurde benötigt?:  1\n"
     ]
    },
    {
     "name": "stdout",
     "output_type": "stream",
     "text": [
      "Verbrauch pro 100 km: 1.00 Liter\n",
      "Strecke pro Liter: 100.00 km\n"
     ]
    }
   ],
   "source": [
    "gstrecke = int(input(\"Wie lang war die gefahrene Strecke?: \")) \n",
    "bliter = int(input(\"Wie viel Liter Kraftstoff wurde benötigt?: \"))\n",
    "        \n",
    "verbrauch = (bliter/gstrecke)*100\n",
    "lstrecke = gstrecke/bliter\n",
    "\n",
    "       \n",
    "print(\"Verbrauch pro 100 km: %.2f Liter\" %verbrauch)\n",
    "print(\"Strecke pro Liter: %.2f km\" %lstrecke)\n"
   ]
  },
  {
   "cell_type": "code",
   "execution_count": null,
   "id": "190bc06d-f8b3-49e7-bd95-b2fe30dc50f9",
   "metadata": {},
   "outputs": [],
   "source": []
  }
 ],
 "metadata": {
  "kernelspec": {
   "display_name": "Python 3 (ipykernel)",
   "language": "python",
   "name": "python3"
  },
  "language_info": {
   "codemirror_mode": {
    "name": "ipython",
    "version": 3
   },
   "file_extension": ".py",
   "mimetype": "text/x-python",
   "name": "python",
   "nbconvert_exporter": "python",
   "pygments_lexer": "ipython3",
   "version": "3.10.13"
  }
 },
 "nbformat": 4,
 "nbformat_minor": 5
}
