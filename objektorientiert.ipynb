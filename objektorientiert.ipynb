{
 "cells": [
  {
   "cell_type": "code",
   "execution_count": 1,
   "id": "7569b6db-e670-41e4-881b-e338a1b7d5cd",
   "metadata": {},
   "outputs": [
    {
     "name": "stdout",
     "output_type": "stream",
     "text": [
      "Hello world!\n"
     ]
    }
   ],
   "source": [
    "class HelloWorld:\n",
    "    def greet(self):\n",
    "        print(\"Hello world!\")\n",
    "\n",
    "greeter = HelloWorld()\n",
    "greeter.greet()"
   ]
  },
  {
   "cell_type": "code",
   "execution_count": null,
   "id": "1936213f-5f35-48f6-bcb7-bc8b928bfe02",
   "metadata": {},
   "outputs": [],
   "source": []
  }
 ],
 "metadata": {
  "kernelspec": {
   "display_name": "Python 3 (ipykernel)",
   "language": "python",
   "name": "python3"
  },
  "language_info": {
   "codemirror_mode": {
    "name": "ipython",
    "version": 3
   },
   "file_extension": ".py",
   "mimetype": "text/x-python",
   "name": "python",
   "nbconvert_exporter": "python",
   "pygments_lexer": "ipython3",
   "version": "3.10.13"
  }
 },
 "nbformat": 4,
 "nbformat_minor": 5
}
